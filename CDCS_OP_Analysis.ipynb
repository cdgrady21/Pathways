{
 "cells": [
  {
   "cell_type": "markdown",
   "metadata": {},
   "source": [
    "# Downloading CDCS"
   ]
  },
  {
   "cell_type": "code",
   "execution_count": null,
   "metadata": {
    "colab": {
     "base_uri": "https://localhost:8080/"
    },
    "id": "5DYXTjNPvTyW",
    "outputId": "ba7b9aba-bcd3-4a9f-ccfe-467c6a3e5efb"
   },
   "outputs": [
    {
     "name": "stdout",
     "output_type": "stream",
     "text": [
      "Looking in indexes: https://pypi.org/simple, https://us-python.pkg.dev/colab-wheels/public/simple/\n",
      "Requirement already satisfied: beautifulsoup4 in /usr/local/lib/python3.8/dist-packages (4.6.3)\n",
      "Collecting beautifulsoup4\n",
      "  Downloading beautifulsoup4-4.11.2-py3-none-any.whl (129 kB)\n",
      "\u001b[2K     \u001b[90m━━━━━━━━━━━━━━━━━━━━━━━━━━━━━━━━━━━━━━━\u001b[0m \u001b[32m129.4/129.4 KB\u001b[0m \u001b[31m5.8 MB/s\u001b[0m eta \u001b[36m0:00:00\u001b[0m\n",
      "\u001b[?25hCollecting soupsieve>1.2\n",
      "  Downloading soupsieve-2.4-py3-none-any.whl (37 kB)\n",
      "Installing collected packages: soupsieve, beautifulsoup4\n",
      "  Attempting uninstall: beautifulsoup4\n",
      "    Found existing installation: beautifulsoup4 4.6.3\n",
      "    Uninstalling beautifulsoup4-4.6.3:\n",
      "      Successfully uninstalled beautifulsoup4-4.6.3\n",
      "Successfully installed beautifulsoup4-4.11.2 soupsieve-2.4\n"
     ]
    }
   ],
   "source": [
    "!pip install beautifulsoup4 --upgrade"
   ]
  },
  {
   "cell_type": "code",
   "execution_count": 37,
   "metadata": {
    "colab": {
     "base_uri": "https://localhost:8080/"
    },
    "id": "8cB_-dCNAiJe",
    "outputId": "9f847c4e-5c5c-4b07-84a7-c9ac5cc381da"
   },
   "outputs": [
    {
     "name": "stdout",
     "output_type": "stream",
     "text": [
      "Pages Results\n",
      "====================================================================\n",
      "1:          Angola\thttps://www.usaid.gov/sites/default/files/2022-05/Angola_CDCS_2014-2019.pdf\n",
      "2:    Democratic R\thttps://www.usaid.gov/sites/default/files/2022-05/Public_CDCS-DRC-12-2025.pdf\n",
      "3:        Ethiopia\thttps://www.usaid.gov/sites/default/files/2022-05/Ethiopia-CDCS_2019-2024_Final-Public-Dec-2019-2.pdf\n",
      "4:          Ghana \thttps://www.usaid.gov/sites/default/files/2022-05/CDCS-Ghana-August-2025x.pdf\n",
      "5:          Guinea\thttps://www.usaid.gov/sites/default/files/2022-05/CDCS_Guinea_Dec_2025_2.pdf\n",
      "6:           Kenya\thttps://www.usaid.gov/sites/default/files/2022-05/Kenya_CDCS_External_Sept_2021.pdf\n",
      "7:         Liberia\thttps://www.usaid.gov/sites/default/files/2022-05/CDCS_Liberia_June_2024.pdf\n",
      "8:      Madagascar\thttps://www.usaid.gov/sites/default/files/2022-06/CDCS-Madagascar-September-2025_112020.pdf\n",
      "9:          Malawi\thttps://www.usaid.gov/sites/default/files/2022-05/EXTERNAL_CDCS_Malawi_2020-2025_-_Exp_April_2025_508_1.50.43_PM.pdf\n",
      "10:            Mali\thttps://www.usaid.gov/sites/default/files/2022-12/CDCS-Mali-September-Final_1.pdf\n",
      "11:      Mozambique\thttps://www.usaid.gov/sites/default/files/2022-05/CDCS-Mozambique-December-2025.pdf\n",
      "12:                 Nigeria\tNot found\n",
      "13:           Niger\thttps://www.usaid.gov/sites/default/files/2023-01/CDCS-Niger-July-2027%20External.pdf\n",
      "14:          Rwanda\thttps://www.usaid.gov/sites/default/files/documents/1860/CDCS_Rwanda_February_2025_2.pdf\n",
      "15:                 Senegal\tNot found\n",
      "16:         Somalia\thttps://www.usaid.gov/sites/default/files/2022-05/Somalia_CDCS_External-2025.pdf\n",
      "17:    South Africa\thttps://www.usaid.gov/sites/default/files/2022-05/RDCS-Southern_Africa-October-2025_0.pdf\n",
      "18:        Tanzania\thttps://www.usaid.gov/sites/default/files/2022-05/Tanzania_CDCS_2020-2025_Public_1.pdf\n",
      "19:                  Uganda\tNot found\n",
      "20:          Zambia\thttps://www.usaid.gov/sites/default/files/2022-05/USAIDZambia_2019-2024_CDCS_EXTERNAL_FINAL.pdf\n",
      "21:        Zimbabwe\thttps://www.usaid.gov/sites/default/files/2022-12/Zimbabwe%20CDCS%202022-2027%20External%20Version%20%281%29_1.pdf\n",
      "22:    Central Africa Regio\tNot found\n",
      "23:    East Africa Regional\tNot found\n",
      "24:    Southern Africa Regi\tNot found\n",
      "25:    Bureau for Africa's \tNot found\n",
      "26:    West Africa \thttps://www.usaid.gov/sites/default/files/2022-05/USAID_West-Africa-and-USAID_Senegal_SRO_RDCS.pdf\n",
      "27:             Afghanistan\tNot found\n",
      "28:      Bangladesh\thttps://www.usaid.gov/sites/default/files/2022-05/CDCS_Bangladesh-December-2025.pdf\n",
      "29:        Cambodia\thttps://www.usaid.gov/sites/default/files/2022-12/Cambodia_CDCS_External_2025.pdf\n",
      "30:           India\thttps://www.usaid.gov/sites/default/files/2022-05/India_CDCS_2020-2024.pdf\n",
      "31:       Indonesia\thttps://www.usaid.gov/sites/default/files/2022-12/PA00ZDQS.pdf\n",
      "32:    Kyrgyz Repub\thttps://www.usaid.gov/sites/default/files/2022-05/CDCS-Kyrgyz_Republic-September-2025.pdf\n",
      "33:           Nepal\thttps://www.usaid.gov/sites/default/files/2022-05/CDCS-NEPAL-DECEMBER-2025-EXTERNAL_030821.pdf\n",
      "34:        Pakistan\thttps://www.usaid.gov/sites/default/files/2022-05/CDCS_Pakistan_August_2023.pdf\n",
      "35:     Philippines\thttps://www.usaid.gov/sites/default/files/2022-05/Philippines_CDCS_2019-2024.pdf\n",
      "36:       Sri Lanka\thttps://www.usaid.gov/sites/default/files/2022-05/CDCS-SriLanka-December-2025r.pdf\n",
      "37:     Timor-Leste\thttps://www.usaid.gov/sites/default/files/2022-05/CDCS-TIMOR-LESTE_2020-2025_1.pdf\n",
      "38:         Vietnam\thttps://www.usaid.gov/sites/default/files/2022-07/CDCS-Vietnam-Extended_Summary_Final_ENG.pdf\n",
      "39:    Central Asia\thttps://www.usaid.gov/sites/default/files/2022-05/RDCS-Central_Asia-December-2025_External_080421.pdf\n",
      "40:    Regional Dev\thttps://www.usaid.gov/sites/default/files/2022-05/External-RDCS-RDMA-Dec-2025.pdf\n",
      "41:         Albania\thttps://www.usaid.gov/sites/default/files/2022-05/Albania_transition_plan_external_FINAL.pdf\n",
      "42:         Armenia\thttps://www.usaid.gov/sites/default/files/2022-05/CDCS-Armenia-external-September-2025-b.pdf\n",
      "43:              Azerbaijan\tNot found\n",
      "44:    Bosnia and H\thttps://www.usaid.gov/sites/default/files/2022-05/USAID_CDCS_smaller_BOS_2.pdf\n",
      "45:         Georgia\thttps://www.usaid.gov/sites/default/files/2022-08/CDCS-Georgia-MAY-2025.pdf\n",
      "46:          Kosovo\thttps://www.usaid.gov/sites/default/files/2022-05/CDCS-Kosovo-May-2025_External.pdf\n",
      "47:         Moldova\thttps://www.usaid.gov/sites/default/files/2022-05/Moldova_CDCS-external_December-2025_508_COVER.pdf\n",
      "48:         North Macedonia\tNot found\n",
      "49:          Serbia\thttps://www.usaid.gov/sites/default/files/2022-05/External_Serbia_CDCS_2020.pdf\n",
      "50:         Ukraine\thttps://www.usaid.gov/sites/default/files/2022-05/Ukraine_USAID_CDCS_2019-2024_Public_EN_12.pdf\n",
      "51:    Central America and \tNot found\n",
      "52:                Colombia\tNot found\n",
      "53:      Dominican Republic\tNot found\n",
      "54:     El Salvador\thttps://www.usaid.gov/sites/default/files/2022-05/CDCS-El_Salvador-external_version-April30.pdf\n",
      "55:       Guatemala\thttps://www.usaid.gov/sites/default/files/2022-05/CDCS-Guatemala-2025-Amended-30Aug2021-Public.pdf\n",
      "56:        Honduras\thttps://www.usaid.gov/sites/default/files/2022-05/USAID_Honduras_CDCS_Public_Version_CLEAN_b.pdf\n",
      "57:         Jamaica\thttps://www.usaid.gov/sites/default/files/2022-05/Jamaica_CDCS_2020_2025_external.pdf\n",
      "58:          Mexico\thttps://www.usaid.gov/sites/default/files/2022-05/FOR_PUBLIC-_CDCS_Mexico-_September_2020-August_2025_v.Dec11_4.pdf\n",
      "59:               Nicaragua\tNot found\n",
      "60:        Paraguay\thttps://www.usaid.gov/sites/default/files/2022-05/Paraguay_approved_CDCS_-_PUBLIC_VERSION_-_LAC_cleared_0_updated20202.pdf\n",
      "61:            Peru\thttps://www.usaid.gov/sites/default/files/2022-05/Resumen_de_Estrategia_de_USAID_en_Peru_2020_-_2025_-_06_julio_2020_2.pdf\n",
      "62:    Eastern and Southern\tNot found\n",
      "63:           Egypt\thttps://www.usaid.gov/sites/default/files/2022-05/CDCS-Egypt-December-2025.pdf\n",
      "64:          Jordan\thttps://www.usaid.gov/sites/default/files/2022-05/CDCS-Jordan-2020-2025.pdf\n",
      "65:         Lebanon\thttps://www.usaid.gov/sites/default/files/2022-05/CDCS-Lebanon-December-2026.pdf\n",
      "66:         Morocco\thttps://www.usaid.gov/sites/default/files/2022-05/CDCS-Morocco-December-2025.pdf\n",
      "67:         Tunisia\thttps://www.usaid.gov/sites/default/files/2022-05/Tunisia_September_2021.pdf\n",
      "68:                   Yemen\tNot found\n"
     ]
    }
   ],
   "source": [
    "import requests\n",
    "import os\n",
    "from bs4 import BeautifulSoup\n",
    "\n",
    "\n",
    "#\n",
    "#   Python script to scrape CDCS documents from usaid.gov\n",
    "#   This script uses bs4. You may need to install bs4:\n",
    "#       pip install bs4\n",
    "#\n",
    "# Wrapper to get the text content (html) from a page\n",
    "def get_html(link):\n",
    "    res = requests.get(link)\n",
    "    txt = res.text\n",
    "    res.close()\n",
    "    return txt\n",
    "\n",
    "# Wrapper to get the content from a page\n",
    "def get_content(link):\n",
    "    res = requests.get(link)\n",
    "    content = res.content\n",
    "    res.close()\n",
    "    return content\n",
    "    \n",
    "# Check if a link contains '/' (located on host domain)\n",
    "def check_link(link):\n",
    "    if link[0] == '/':\n",
    "        return 'https://www.usaid.gov'  + link\n",
    "    else:\n",
    "        return link\n",
    "\n",
    "\n",
    "# Get webpage\n",
    "soup = BeautifulSoup(get_html('https://www.usaid.gov/results-and-data/planning/country-strategies-cdcs'), 'html.parser')\n",
    "\n",
    "    \n",
    "# Make a directory to store\n",
    "if not os.getcwd().split(\"\\\\\")[-1] == \"CDCS\" and not os.path.exists(\"CDCS\"):\n",
    "    os.mkdir(\"CDCS\")\n",
    "os.chdir(\"CDCS\")\n",
    "\n",
    "\n",
    "# Display dictionary\n",
    "print(\"Pages Results\")\n",
    "print(\"====================================================================\") \n",
    "\n",
    "# Obtain links to pdfs located on main site\n",
    "# soup.select uses a CSS selector to obtain the link\n",
    "pages = {}\n",
    "idx = 1\n",
    "for link in soup.select('div[class*=\"wysiwyg\"] > a:first-child'):\n",
    "    # Try to go to the link referenced\n",
    "    # Access subpage and search for pdf\n",
    "    child = BeautifulSoup(get_html(check_link(link.get(\"href\"))), 'html.parser')\n",
    "    pdf_attr = child.select('a[href*=\"pdf\"]')\n",
    "\n",
    "    # Error\n",
    "    if not pdf_attr:\n",
    "        pages[link.text] = \"Not found\"\n",
    "        print(\"%d:%24s\\t%s\" % (idx, link.text[:20], \"Not found\"))\n",
    "        # Exit 1 \n",
    "        idx += 1;\n",
    "        continue\n",
    "    \n",
    "    # Visit pdf link\n",
    "    # Handle multiple links\n",
    "    pdf_link = pdf_attr[0].get(\"href\")\n",
    "    if len(pdf_attr) > 1:\n",
    "        for lnk in pdf_attr:\n",
    "            # Language edgecase. Not comprehensive. TODO?\n",
    "            if \"title\" in lnk.attrs and \"Español\" in (lnk[\"title\"] or \"Spanish\" in lnk[\"title\"]):\n",
    "                continue\n",
    "        \n",
    "            if \"class\" in lnk.attrs and \"usaid-link\" in lnk[\"class\"]:\n",
    "                pdf_link = lnk.get(\"href\")\n",
    "    \n",
    "    # Update link\n",
    "    pdf_link = check_link(pdf_link)\n",
    "        \n",
    "    # Check if file exists\n",
    "    if os.path.isfile(link.text + \" CDCS.pdf\"):\n",
    "        pages[link.text] = pdf_link\n",
    "        print(\"%d:%24s\\t%s\" % (idx, link.text[:20], pdf_link))\n",
    "        # Exit 2\n",
    "        idx += 1;\n",
    "        continue\n",
    "\n",
    "    # Write\n",
    "    # MAYBE TODO: it is possible that the link returns a 404\n",
    "    pdf = open(link.text + \" CDCS.pdf\", \"wb\")\n",
    "    pdf.write(get_content(pdf_link))\n",
    "    pdf.close()\n",
    "    \n",
    "    # Exit 3\n",
    "    print(\"%d:%16s\\t%s\" % (idx, link.text[:12], pdf_link))\n",
    "    pages[link.text] = pdf_link\n",
    "    idx += 1;\n",
    "    "
   ]
  },
  {
   "cell_type": "markdown",
   "metadata": {
    "id": "7EI1o4uPz2WI"
   },
   "source": [
    "# Preprocessing into Bag of Words"
   ]
  },
  {
   "cell_type": "code",
   "execution_count": 8,
   "metadata": {},
   "outputs": [
    {
     "name": "stdout",
     "output_type": "stream",
     "text": [
      "Requirement already satisfied: PyPDF2 in c:\\users\\shado\\anaconda3\\lib\\site-packages (3.0.1)\n",
      "Requirement already satisfied: typing_extensions>=3.10.0.0 in c:\\users\\shado\\anaconda3\\lib\\site-packages (from PyPDF2) (4.5.0)\n"
     ]
    }
   ],
   "source": [
    "!pip install PyPDF2"
   ]
  },
  {
   "cell_type": "code",
   "execution_count": 2,
   "metadata": {
    "id": "gPXJDaypAyN6"
   },
   "outputs": [
    {
     "name": "stdout",
     "output_type": "stream",
     "text": [
      "Albania CDCS.pdf Angola CDCS.pdf Armenia CDCS.pdf \n",
      "Bangladesh CDCS.pdf Bosnia and Herzegovina CDCS.pdf Cambodia CDCS.pdf Central Asia CDCS.pdf \n",
      "Democratic Republic of the Congo CDCS.pdf Egypt CDCS.pdf El Salvador CDCS.pdf Ethiopia CDCS.pdf \n",
      "Georgia CDCS.pdf Ghana  CDCS.pdf Guatemala CDCS.pdf Guinea CDCS.pdf \n",
      "Honduras CDCS.pdf India CDCS.pdf Indonesia CDCS.pdf Jamaica CDCS.pdf \n",
      "Jordan CDCS.pdf Kenya CDCS.pdf Kosovo CDCS.pdf Kyrgyz Republic CDCS.pdf \n",
      "Lebanon CDCS.pdf Liberia CDCS.pdf Madagascar CDCS.pdf Malawi CDCS.pdf \n",
      "Mali CDCS.pdf Mexico CDCS.pdf Moldova CDCS.pdf Morocco CDCS.pdf \n",
      "Mozambique CDCS.pdf Nepal CDCS.pdf Niger CDCS.pdf Pakistan CDCS.pdf \n",
      "Paraguay CDCS.pdf Peru CDCS.pdf Philippines CDCS.pdf Regional Development Cooperation Strategy CDCS.pdf \n",
      "Error reading Rwanda CDCS.pdf\n",
      "\n",
      "Serbia CDCS.pdf Somalia CDCS.pdf South Africa CDCS.pdf Sri Lanka CDCS.pdf \n",
      "Tanzania CDCS.pdf Timor-Leste CDCS.pdf Tunisia CDCS.pdf Ukraine CDCS.pdf \n",
      "Vietnam CDCS.pdf West Africa Regional CDCS.pdf Zambia CDCS.pdf Zimbabwe CDCS.pdf \n"
     ]
    }
   ],
   "source": [
    "from PyPDF2 import PdfReader\n",
    "import os\n",
    "\n",
    "# If not in directory, move into it\n",
    "if not os.getcwd().split(\"\\\\\")[-1] == \"CDCS\":\n",
    "    os.chdir(\"CDCS\")\n",
    "\n",
    "# Get text from all pdfs\n",
    "titles = []\n",
    "documents = []\n",
    "i = 0\n",
    "for fname in os.listdir():\n",
    "    if fname.find(\"CDCS.pdf\") != -1:\n",
    "        \n",
    "        # Try reading, catching erros\n",
    "        reader = None\n",
    "        try:\n",
    "            reader = PdfReader(fname)\n",
    "        except:\n",
    "            print(\"\\nError reading\", fname)\n",
    "            continue\n",
    "        \n",
    "        # Extract text from a pdf\n",
    "        all_text = \"\"\n",
    "        for page in reader.pages:\n",
    "            all_text += page.extract_text()\n",
    "        \n",
    "        documents.append(all_text)\n",
    "        titles.append(fname[:fname.find(\"CDCS.pdf\") - 1])\n",
    "        \n",
    "        # Print for progress\n",
    "        i += 1\n",
    "        if i % 4 == 0:\n",
    "            print(\"\")\n",
    "            i = 0\n",
    "        print(fname, end=\" \")\n",
    "print(\"\")"
   ]
  },
  {
   "cell_type": "code",
   "execution_count": 136,
   "metadata": {},
   "outputs": [],
   "source": [
    "import re\n",
    "\n",
    "# Clean the text\n",
    "# It may be more effective to do it here rather than using vectorizer \n",
    "# because it may \"fix\" some words\n",
    "\n",
    "# Considerations:         \n",
    "# remove numbers?    \n",
    "# remove non-english characters?\n",
    "# remove common words such as usaid?\n",
    "# autocorrect? also some words seemed to be split by a random space\n",
    "# only scan certain sections?\n",
    "\n",
    "for i in range(len(documents)):\n",
    "    # This will get rid of: non-words, digits\n",
    "    documents[i] = re.sub(\"[^\\w ]|\\d\", \"\", documents[i]).lower()"
   ]
  },
  {
   "cell_type": "code",
   "execution_count": 166,
   "metadata": {},
   "outputs": [],
   "source": [
    "import pandas as pd\n",
    "import sklearn.feature_extraction as skft\n",
    "from sklearn.feature_extraction.text import CountVectorizer\n",
    "from sklearn.feature_extraction.text import TfidfTransformer\n",
    "\n",
    "\n",
    "ADD_STOPWORDS = [\"usaid\", \"usaids\", \"agency\", \n",
    "                 \"international\", \"development\", \n",
    "                 \"unclassified\", \"embassy\", \"approved\", \n",
    "                 \"public\", \"release\", \"cdcs\", \"mission\"]\n",
    "stwords = skft.text.ENGLISH_STOP_WORDS.union(ADD_STOPWORDS)\n",
    "\n",
    "\n",
    "# Convert documents into bag of words\n",
    "# This also drops terms that do not appear in at least 5% of the documents\n",
    "vectorizer = CountVectorizer(stop_words=stwords, lowercase=True, min_df=0.05)\n",
    "raw_bag = vectorizer.fit_transform(documents)\n",
    "bag = pd.DataFrame(data=raw_bag.toarray(), columns = vectorizer.get_feature_names(), index=titles)\n",
    "\n",
    "tfidf_vect = TfidfTransformer()\n",
    "tfidf_bag = tfidf_vect.fit_transform(bag)\n",
    "tfidf = pd.DataFrame(data=tfidf_bag.toarray(), columns = vectorizer.get_feature_names(), index=titles)"
   ]
  },
  {
   "cell_type": "code",
   "execution_count": null,
   "metadata": {},
   "outputs": [],
   "source": [
    "# Save results \n",
    "import json\n",
    "with open('title.json', 'w', encoding='utf-8') as f:\n",
    "    json.dump(titles, f, ensure_ascii=False, indent=4)\n",
    "\n",
    "with open('cdcsraw.json', 'w', encoding='utf-8') as f:\n",
    "    json.dump(documents, f, ensure_ascii=False, indent=4)\n",
    "    \n",
    "# Write the as csv so the process doesn't need to be repeated\n",
    "bag.to_csv('cdcs_bag.csv') \n",
    "tfidf.to_csv('cdcs_tfidf.csv') "
   ]
  },
  {
   "cell_type": "markdown",
   "metadata": {},
   "source": [
    "# Analysis"
   ]
  },
  {
   "cell_type": "markdown",
   "metadata": {},
   "source": [
    "## Reloading the file if necessary"
   ]
  },
  {
   "cell_type": "code",
   "execution_count": 59,
   "metadata": {},
   "outputs": [],
   "source": [
    "import pandas as pd\n",
    "\n",
    "bag = pd.read_csv(\"cdcs_bag.csv\")\n",
    "bag = bag.rename(columns = {'Unnamed: 0':'Nation'}).set_index(\"Nation\")\n",
    "\n",
    "tfidf = pd.read_csv(\"cdcs_tfidf.csv\")\n",
    "tfidf = tfidf.rename(columns = {'Unnamed: 0':'Nation'}).set_index(\"Nation\")\n",
    "\n",
    "documents = None\n",
    "with open('cdcsraw.json') as f:\n",
    "    documents = list(json.load(f).items())"
   ]
  },
  {
   "cell_type": "markdown",
   "metadata": {},
   "source": [
    "## Keyword analysis"
   ]
  },
  {
   "cell_type": "code",
   "execution_count": 212,
   "metadata": {},
   "outputs": [
    {
     "data": {
      "text/plain": [
       "dict_keys(['Civil Society', 'Governance', 'Corruption', 'Human Rights', 'Independent Media and Free Flow of Information', 'Political Competition and Consensus Building', 'Rule of Law', \"Women's Political Participation and Leadership\", 'Youth', 'Environment & Climate Change', 'Migration', 'Misinformation'])"
      ]
     },
     "execution_count": 212,
     "metadata": {},
     "output_type": "execute_result"
    }
   ],
   "source": [
    "import re\n",
    "\n",
    "# The format of the keywords file should be\n",
    "# name\n",
    "# keyword|keyword2|keyword3              (on a single line)\n",
    "kwords = {}\n",
    "with open('keywords.txt') as k:\n",
    "    kdoc = k.read()\n",
    "    spl = re.compile(\"\\n\").split(kdoc)\n",
    "    \n",
    "    # A simple algorithm that matches the previous non-empty line\n",
    "    tag_name = None\n",
    "    for s in spl:\n",
    "        if not re.match(\"\\s+\", s):\n",
    "            if tag_name:\n",
    "                kwords[tag_name] = s\n",
    "                tag_name = None\n",
    "            else:\n",
    "                tag_name = s\n",
    "kwords.keys()"
   ]
  },
  {
   "cell_type": "code",
   "execution_count": 249,
   "metadata": {},
   "outputs": [],
   "source": [
    "def country_keywords_count(country, kword):\n",
    "    return len(re.findall(kwords[kword], documents[titles.index(country)]))\n",
    "\n",
    "def county_keywords_breakdown(country):\n",
    "    result = {}\n",
    "    for k in kwords.keys():\n",
    "        result[k] = country_keywords_count(country, k)\n",
    "    return result"
   ]
  },
  {
   "cell_type": "code",
   "execution_count": 250,
   "metadata": {},
   "outputs": [
    {
     "name": "stdout",
     "output_type": "stream",
     "text": [
      "27\n",
      "{'Civil Society': 162, 'Governance': 340, 'Corruption': 5, 'Human Rights': 88, 'Independent Media and Free Flow of Information': 102, 'Political Competition and Consensus Building': 19, 'Rule of Law': 60, \"Women's Political Participation and Leadership\": 98, 'Youth': 111, 'Environment & Climate Change': 19, 'Migration': 4, 'Misinformation': 0}\n",
      "{'Civil Society': 35, 'Governance': 62, 'Corruption': 17, 'Human Rights': 3, 'Independent Media and Free Flow of Information': 18, 'Political Competition and Consensus Building': 3, 'Rule of Law': 33, \"Women's Political Participation and Leadership\": 0, 'Youth': 15, 'Environment & Climate Change': 4, 'Migration': 0, 'Misinformation': 0}\n"
     ]
    }
   ],
   "source": [
    "print(country_keywords_count(\"Zambia\", \"Rule of Law\"))\n",
    "print(county_keywords_breakdown(\"Jordan\"))\n",
    "print(county_keywords_breakdown(\"Albania\"))"
   ]
  },
  {
   "cell_type": "code",
   "execution_count": 251,
   "metadata": {},
   "outputs": [],
   "source": [
    "# As a dataframe\n",
    "# TODO"
   ]
  },
  {
   "cell_type": "markdown",
   "metadata": {},
   "source": [
    "## Bag of words analysis"
   ]
  },
  {
   "cell_type": "code",
   "execution_count": 163,
   "metadata": {},
   "outputs": [],
   "source": [
    "# Helper functions to interept bag of words\n",
    "def get_top_words(df, country, num):\n",
    "    return df.loc[country, :].sort_values(ascending=False).head(num)"
   ]
  },
  {
   "cell_type": "code",
   "execution_count": 200,
   "metadata": {},
   "outputs": [
    {
     "data": {
      "text/plain": [
       "government      24\n",
       "transparency    16\n",
       "sector          14\n",
       "private         13\n",
       "youth           12\n",
       "activities      11\n",
       "business        11\n",
       "civil           10\n",
       "work             9\n",
       "include          9\n",
       "Name: Albania, dtype: int64"
      ]
     },
     "execution_count": 200,
     "metadata": {},
     "output_type": "execute_result"
    }
   ],
   "source": [
    "get_top_words(bag, \"Albania\", 10)"
   ]
  },
  {
   "cell_type": "code",
   "execution_count": 193,
   "metadata": {},
   "outputs": [
    {
     "name": "stdout",
     "output_type": "stream",
     "text": [
      "sri private support sector asia health countries economic region regional \n",
      "education capacity women government ir services economic sector climate health \n",
      "education health country ir capacity support government private sector economic \n"
     ]
    }
   ],
   "source": [
    "from sklearn.decomposition import LatentDirichletAllocation\n",
    "\n",
    "# Looking at LDA\n",
    "lda = LatentDirichletAllocation(n_components=3)\n",
    "lda.fit(bag)\n",
    "\n",
    "# Print top words associated with each component\n",
    "for topic in range(0, len(lda.components_)):\n",
    "  print(\"\".join(bag.columns[x] + \" \" for x in lda.components_[topic].argsort()[-10:]))"
   ]
  },
  {
   "cell_type": "code",
   "execution_count": 190,
   "metadata": {},
   "outputs": [
    {
     "data": {
      "text/plain": [
       "<AxesSubplot:title={'center':'PCA with tfidf'}, xlabel='pc1', ylabel='pc2'>"
      ]
     },
     "execution_count": 190,
     "metadata": {},
     "output_type": "execute_result"
    },
    {
     "data": {
      "image/png": "[encoded data removed]",
      "text/plain": [
       "<Figure size 720x576 with 1 Axes>"
      ]
     },
     "metadata": {
      "needs_background": "light"
     },
     "output_type": "display_data"
    }
   ],
   "source": [
    "from sklearn.decomposition import PCA\n",
    "import matplotlib.pyplot as plt\n",
    "import seaborn as sns\n",
    "\n",
    "\n",
    "# Create PCA\n",
    "pca = PCA(n_components=2)\n",
    "tf2d = pca.fit_transform(tfidf)\n",
    "tf_pca = pd.DataFrame(data=tf2d, columns=[\"pc1\", \"pc2\"])\n",
    "\n",
    "# Graph\n",
    "plt.figure(figsize=(10, 8))\n",
    "plt.title(\"PCA with tfidf\")\n",
    "sns.scatterplot(data=tf_pca, x=\"pc1\", y=\"pc2\")"
   ]
  }
 ],
 "metadata": {
  "colab": {
   "provenance": []
  },
  "kernelspec": {
   "display_name": "Python 3",
   "language": "python",
   "name": "python3"
  },
  "language_info": {
   "codemirror_mode": {
    "name": "ipython",
    "version": 3
   },
   "file_extension": ".py",
   "mimetype": "text/x-python",
   "name": "python",
   "nbconvert_exporter": "python",
   "pygments_lexer": "ipython3",
   "version": "3.8.8"
  }
 },
 "nbformat": 4,
 "nbformat_minor": 1
}
